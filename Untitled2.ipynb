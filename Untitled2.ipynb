{
  "nbformat": 4,
  "nbformat_minor": 0,
  "metadata": {
    "colab": {
      "name": "Untitled2.ipynb",
      "provenance": [],
      "authorship_tag": "ABX9TyPX02KRQWATDQE88r8h3o+A",
      "include_colab_link": true
    },
    "kernelspec": {
      "name": "python3",
      "display_name": "Python 3"
    },
    "language_info": {
      "name": "python"
    }
  },
  "cells": [
    {
      "cell_type": "markdown",
      "metadata": {
        "id": "view-in-github",
        "colab_type": "text"
      },
      "source": [
        "<a href=\"https://colab.research.google.com/github/demining/Simple-Python-Blockchain-Google-Colab/blob/main/Untitled2.ipynb\" target=\"_parent\"><img src=\"https://colab.research.google.com/assets/colab-badge.svg\" alt=\"Open In Colab\"/></a>"
      ]
    },
    {
      "cell_type": "code",
      "execution_count": 1,
      "metadata": {
        "colab": {
          "base_uri": "https://localhost:8080/"
        },
        "id": "mFHNk48RBdV1",
        "outputId": "57f3dba7-6a5e-47e9-9114-ee02cfd88779"
      },
      "outputs": [
        {
          "output_type": "stream",
          "name": "stdout",
          "text": [
            "Cloning into 'NBitcoin'...\n",
            "remote: Enumerating objects: 80243, done.\u001b[K\n",
            "remote: Counting objects: 100% (1885/1885), done.\u001b[K\n",
            "remote: Compressing objects: 100% (1061/1061), done.\u001b[K\n",
            "remote: Total 80243 (delta 1260), reused 1323 (delta 811), pack-reused 78358\u001b[K\n",
            "Receiving objects: 100% (80243/80243), 65.17 MiB | 16.09 MiB/s, done.\n",
            "Resolving deltas: 100% (71681/71681), done.\n"
          ]
        }
      ],
      "source": [
        "!git clone https://github.com/MetacoSA/NBitcoin.git"
      ]
    },
    {
      "cell_type": "code",
      "source": [
        "cd NBitcoin"
      ],
      "metadata": {
        "colab": {
          "base_uri": "https://localhost:8080/"
        },
        "id": "wSEARonqBq03",
        "outputId": "48b80648-ae08-42d1-b654-5570ad9b1b67"
      },
      "execution_count": 2,
      "outputs": [
        {
          "output_type": "stream",
          "name": "stdout",
          "text": [
            "/content/NBitcoin\n"
          ]
        }
      ]
    }
  ]
}